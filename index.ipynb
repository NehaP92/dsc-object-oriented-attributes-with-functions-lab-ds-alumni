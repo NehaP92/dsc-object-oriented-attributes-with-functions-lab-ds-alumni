{
 "cells": [
  {
   "cell_type": "markdown",
   "metadata": {},
   "source": [
    "# Object Oriented Attributes With Functions - Lab\n",
    "\n",
    "## Introduction\n",
    "\n",
    "In the last lesson, you saw what a **domain model** is and how it ties into object-oriented programming. In this lab, you'll be using a school as a domain model.\n",
    "\n",
    "## Objectives\n",
    "\n",
    "You will be able to:\n",
    "\n",
    "* Create a domain model using OOP\n",
    "* Create instance methods that operate on instance attributes\n",
    "\n",
    "\n",
    "## Creating a Simple School Class\n",
    "\n",
    "To start, open up the **school.py** file in your text editor of choice such as Atom, Sublime, or a simple notepad program. Within this file, create a `School()` class definition that will be initialized with the name of the school.\n",
    "\n",
    "> **Note:** the next cell imports an extension, `autoreload`, from IPython. The autoreload extension reloads any imported packages when methods from that package are called. While this is inefficient for stable packages such as NumPy which will be static while working in a notebook, the `autoreload` extension is quite useful when developing a package yourself. That is, you can update a package such as **school.py** and then test the effects in a notebook; with the `autoreload` extension, you'll see the effects of your changes to the package reflected. \n",
    "\n",
    ">> If you still have trouble with cells reflecting updates to the **school.py** file as you go along, go to the *Kernel* tab at the top of the Jupyter notebook and click *Restart & Run All*. This should smoothly run everything up to where you're working."
   ]
  },
  {
   "cell_type": "code",
   "execution_count": 1,
   "metadata": {
    "ExecuteTime": {
     "end_time": "2021-06-07T03:14:09.453095Z",
     "start_time": "2021-06-07T03:14:09.394252Z"
    }
   },
   "outputs": [],
   "source": [
    "%load_ext autoreload\n",
    "%autoreload 2"
   ]
  },
  {
   "cell_type": "code",
   "execution_count": 5,
   "metadata": {
    "ExecuteTime": {
     "end_time": "2021-06-07T03:17:32.517667Z",
     "start_time": "2021-06-07T03:17:32.438875Z"
    }
   },
   "outputs": [
    {
     "name": "stderr",
     "output_type": "stream",
     "text": [
      "[autoreload of school failed: Traceback (most recent call last):\n",
      "  File \"C:\\Users\\19035\\Anaconda3\\envs\\learn-env\\lib\\site-packages\\IPython\\extensions\\autoreload.py\", line 245, in check\n",
      "    superreload(m, reload, self.old_objects)\n",
      "  File \"C:\\Users\\19035\\Anaconda3\\envs\\learn-env\\lib\\site-packages\\IPython\\extensions\\autoreload.py\", line 434, in superreload\n",
      "    module = reload(module)\n",
      "  File \"C:\\Users\\19035\\Anaconda3\\envs\\learn-env\\lib\\imp.py\", line 315, in reload\n",
      "    return importlib.reload(module)\n",
      "  File \"C:\\Users\\19035\\Anaconda3\\envs\\learn-env\\lib\\importlib\\__init__.py\", line 166, in reload\n",
      "    _bootstrap._exec(spec, module)\n",
      "  File \"<frozen importlib._bootstrap>\", line 618, in _exec\n",
      "  File \"<frozen importlib._bootstrap_external>\", line 674, in exec_module\n",
      "  File \"<frozen importlib._bootstrap_external>\", line 781, in get_code\n",
      "  File \"<frozen importlib._bootstrap_external>\", line 741, in source_to_code\n",
      "  File \"<frozen importlib._bootstrap>\", line 219, in _call_with_frames_removed\n",
      "  File \"C:\\Users\\19035\\Documents\\Data Science - Flatiron\\Module 3\\OOP\\dsc-object-oriented-attributes-with-functions-lab-ds-alumni\\school.py\", line 1\n",
      "    class School:\n",
      "                ^\n",
      "SyntaxError: unexpected EOF while parsing\n",
      "]\n"
     ]
    }
   ],
   "source": [
    "from school import School"
   ]
  },
  {
   "cell_type": "code",
   "execution_count": 6,
   "metadata": {
    "ExecuteTime": {
     "end_time": "2021-06-07T03:17:36.310017Z",
     "start_time": "2021-06-07T03:17:36.209360Z"
    }
   },
   "outputs": [
    {
     "ename": "TypeError",
     "evalue": "object() takes no parameters",
     "output_type": "error",
     "traceback": [
      "\u001b[1;31m---------------------------------------------------------------------------\u001b[0m",
      "\u001b[1;31mTypeError\u001b[0m                                 Traceback (most recent call last)",
      "\u001b[1;32m<ipython-input-6-dfea143de6e0>\u001b[0m in \u001b[0;36m<module>\u001b[1;34m\u001b[0m\n\u001b[1;32m----> 1\u001b[1;33m \u001b[0mschool\u001b[0m \u001b[1;33m=\u001b[0m \u001b[0mSchool\u001b[0m\u001b[1;33m(\u001b[0m\u001b[1;34m\"Middletown High School\"\u001b[0m\u001b[1;33m)\u001b[0m\u001b[1;33m\u001b[0m\u001b[1;33m\u001b[0m\u001b[0m\n\u001b[0m",
      "\u001b[1;31mTypeError\u001b[0m: object() takes no parameters"
     ]
    }
   ],
   "source": [
    "school = School(\"Middletown High School\")"
   ]
  },
  {
   "cell_type": "markdown",
   "metadata": {},
   "source": [
    "## Updating the __init__ method\n",
    "\n",
    "Great! Now, update your `School()` definition in **school.py** to also include a `roster` attribute upon initialization. Initialize the `roster` attribute as an empty dictionary. Later, you'll use this empty roster dictionary to list students of each grade. For example, a future entry in the roster dictionary could be `{\"9\": [\"John Smith\", \"Jane Donahue\"]}`)."
   ]
  },
  {
   "cell_type": "code",
   "execution_count": null,
   "metadata": {
    "ExecuteTime": {
     "end_time": "2021-06-07T03:14:09.538899Z",
     "start_time": "2021-06-07T03:14:09.398Z"
    }
   },
   "outputs": [],
   "source": [
    "# You must reinstantiate the object since you've modified the class definition!\n",
    "school = School(\"Middletown High School\") \n",
    "school.roster # {}"
   ]
  },
  {
   "cell_type": "markdown",
   "metadata": {},
   "source": [
    "## Adding Methods\n",
    "\n",
    "### Method 1: `add_student()` \n",
    "\n",
    "Now add a method `.add_student()` which takes two arguments: a student's full name and their grade level, and updates the roster dictionary accordingly. "
   ]
  },
  {
   "cell_type": "code",
   "execution_count": null,
   "metadata": {
    "ExecuteTime": {
     "end_time": "2021-06-07T03:14:09.539871Z",
     "start_time": "2021-06-07T03:14:09.401Z"
    }
   },
   "outputs": [],
   "source": [
    "# Again, you must reinstantiate since you've modified the class!\n",
    "school = School(\"Middletown High School\") \n",
    "school.add_student(\"Peter Piper\", 12)\n",
    "school.roster # {\"12\": [\"Peter Piper\"]}"
   ]
  },
  {
   "cell_type": "markdown",
   "metadata": {},
   "source": [
    "> **Hint:** If you're stuck, don't fret; this one's a little tricky. You need to consider two scenarios.\n",
    "    1. There is no entry for this grade yet in the roster dictionary:\n",
    "        - Add an entry to roster dictionary with the grade key and a single item list using the name\n",
    "    2. There is an entry for this grade in the roster dictionary:\n",
    "        - Append the current name to the list associated with that grade\n",
    "        \n",
    ">> Going further: if you're really ambitious, you can actually combine both of these conditions into a single line using the `.get()` method with dictionaries. Here's the docstring for the `.get()` method:  \n",
    "get(key[, default])  \n",
    "    Return the value for key if key is in the dictionary, else default. If default is not given, it defaults to None, so that this method never raises a KeyError.\n"
   ]
  },
  {
   "cell_type": "markdown",
   "metadata": {},
   "source": [
    "To make sure your method works for both scenarios, run the cell below: "
   ]
  },
  {
   "cell_type": "code",
   "execution_count": null,
   "metadata": {
    "ExecuteTime": {
     "end_time": "2021-06-07T03:14:09.541129Z",
     "start_time": "2021-06-07T03:14:09.403Z"
    }
   },
   "outputs": [],
   "source": [
    "school.add_student(\"Kelly Slater\", 9)\n",
    "school.add_student(\"Tony Hawk\", 10)\n",
    "school.add_student(\"Ryan Sheckler\", 10)\n",
    "school.add_student(\"Bethany Hamilton\", 11)\n",
    "school.roster # {9: [\"Kelly Slater\"], 10: [\"Tony Hawk\", \"Ryan Sheckler\"], 11: [\"Bethany Hamilton\"], 12: [\"Peter Piper\"]}"
   ]
  },
  {
   "cell_type": "markdown",
   "metadata": {},
   "source": [
    "### Method 2: `grade()`\n",
    "Next, define a method called `.grade()`, which should take in an argument of a grade and return a list of all the students in that grade. "
   ]
  },
  {
   "cell_type": "code",
   "execution_count": null,
   "metadata": {
    "ExecuteTime": {
     "end_time": "2021-06-07T03:14:09.541859Z",
     "start_time": "2021-06-07T03:14:09.405Z"
    }
   },
   "outputs": [],
   "source": [
    "# While annoying, you do need to reinstantiate the updated class and reform the previous methods\n",
    "school = School(\"Middletown High School\") \n",
    "school.add_student(\"Peter Piper\", 12)\n",
    "school.add_student(\"Kelly Slater\", 9)\n",
    "school.add_student(\"Tony Hawk\", 10)\n",
    "school.add_student(\"Ryan Sheckler\", 10)\n",
    "school.add_student(\"Bethany Hamilton\", 11)\n",
    "# Testing out your new method:\n",
    "print(school.grade(10)) # [\"Tony Hawk\", \"Ryan Sheckler\"]\n",
    "print(school.grade(12)) # [\"Peter Piper\"]"
   ]
  },
  {
   "cell_type": "markdown",
   "metadata": {},
   "source": [
    "### Method 3: `sort_roster()` \n",
    "\n",
    "Define a method called `.sort_roster()` that returns the school's roster where the strings in the student arrays are sorted alphabetically. For instance:\n",
    "`{9: [\"Kelly Slater\"], 10: [\"Ryan Sheckler\", \"Tony Hawk\"], 11: [\"Bethany Hamilton\"], 12: [\"Peter Piper\"]}}`"
   ]
  },
  {
   "cell_type": "markdown",
   "metadata": {},
   "source": [
    ">**Note:** since dictionaries are unordered, the order of the keys does not matter here, just the order of the student's names within each list."
   ]
  },
  {
   "cell_type": "code",
   "execution_count": null,
   "metadata": {
    "ExecuteTime": {
     "end_time": "2021-06-07T03:14:09.543201Z",
     "start_time": "2021-06-07T03:14:09.407Z"
    }
   },
   "outputs": [],
   "source": [
    "school.sort_roster()"
   ]
  },
  {
   "cell_type": "markdown",
   "metadata": {},
   "source": [
    "## Summary\n",
    "In this lab, you continued to pracitce OOP, designing a more complex domain model using a `School()` class with a few instance methods and variables. Soon you'll see that domain models can use other classes, instance methods, and instance variables to create more functionality in your programs."
   ]
  }
 ],
 "metadata": {
  "kernelspec": {
   "display_name": "Python 3",
   "language": "python",
   "name": "python3"
  },
  "language_info": {
   "codemirror_mode": {
    "name": "ipython",
    "version": 3
   },
   "file_extension": ".py",
   "mimetype": "text/x-python",
   "name": "python",
   "nbconvert_exporter": "python",
   "pygments_lexer": "ipython3",
   "version": "3.6.9"
  },
  "toc": {
   "base_numbering": 1,
   "nav_menu": {},
   "number_sections": true,
   "sideBar": true,
   "skip_h1_title": false,
   "title_cell": "Table of Contents",
   "title_sidebar": "Contents",
   "toc_cell": false,
   "toc_position": {},
   "toc_section_display": true,
   "toc_window_display": false
  }
 },
 "nbformat": 4,
 "nbformat_minor": 2
}
